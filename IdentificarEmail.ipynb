{
  "cells": [
    {
      "cell_type": "markdown",
      "metadata": {
        "id": "view-in-github",
        "colab_type": "text"
      },
      "source": [
        "<a href=\"https://colab.research.google.com/github/guhdalla/AppDoeMais/blob/main/IdentificarEmail.ipynb\" target=\"_parent\"><img src=\"https://colab.research.google.com/assets/colab-badge.svg\" alt=\"Open In Colab\"/></a>"
      ]
    },
    {
      "cell_type": "markdown",
      "metadata": {
        "id": "epCVXt53FE0V"
      },
      "source": [
        "# Indentificar Eleicao"
      ]
    },
    {
      "cell_type": "code",
      "execution_count": null,
      "metadata": {
        "id": "BLfPZIxEL_0A",
        "colab": {
          "base_uri": "https://localhost:8080/"
        },
        "outputId": "cefeb03a-949f-41c1-b87b-b63d75a10447"
      },
      "outputs": [
        {
          "output_type": "stream",
          "name": "stdout",
          "text": [
            "\u001b[?25l\r\u001b[K     |▍                               | 10 kB 27.3 MB/s eta 0:00:01\r\u001b[K     |▉                               | 20 kB 31.2 MB/s eta 0:00:01\r\u001b[K     |█▎                              | 30 kB 33.4 MB/s eta 0:00:01\r\u001b[K     |█▊                              | 40 kB 36.0 MB/s eta 0:00:01\r\u001b[K     |██▏                             | 51 kB 23.6 MB/s eta 0:00:01\r\u001b[K     |██▋                             | 61 kB 26.5 MB/s eta 0:00:01\r\u001b[K     |███                             | 71 kB 26.0 MB/s eta 0:00:01\r\u001b[K     |███▌                            | 81 kB 26.5 MB/s eta 0:00:01\r\u001b[K     |████                            | 92 kB 28.2 MB/s eta 0:00:01\r\u001b[K     |████▍                           | 102 kB 30.0 MB/s eta 0:00:01\r\u001b[K     |████▉                           | 112 kB 30.0 MB/s eta 0:00:01\r\u001b[K     |█████▎                          | 122 kB 30.0 MB/s eta 0:00:01\r\u001b[K     |█████▊                          | 133 kB 30.0 MB/s eta 0:00:01\r\u001b[K     |██████▏                         | 143 kB 30.0 MB/s eta 0:00:01\r\u001b[K     |██████▋                         | 153 kB 30.0 MB/s eta 0:00:01\r\u001b[K     |███████                         | 163 kB 30.0 MB/s eta 0:00:01\r\u001b[K     |███████▌                        | 174 kB 30.0 MB/s eta 0:00:01\r\u001b[K     |████████                        | 184 kB 30.0 MB/s eta 0:00:01\r\u001b[K     |████████▍                       | 194 kB 30.0 MB/s eta 0:00:01\r\u001b[K     |████████▉                       | 204 kB 30.0 MB/s eta 0:00:01\r\u001b[K     |█████████▎                      | 215 kB 30.0 MB/s eta 0:00:01\r\u001b[K     |█████████▊                      | 225 kB 30.0 MB/s eta 0:00:01\r\u001b[K     |██████████▏                     | 235 kB 30.0 MB/s eta 0:00:01\r\u001b[K     |██████████▌                     | 245 kB 30.0 MB/s eta 0:00:01\r\u001b[K     |███████████                     | 256 kB 30.0 MB/s eta 0:00:01\r\u001b[K     |███████████▍                    | 266 kB 30.0 MB/s eta 0:00:01\r\u001b[K     |███████████▉                    | 276 kB 30.0 MB/s eta 0:00:01\r\u001b[K     |████████████▎                   | 286 kB 30.0 MB/s eta 0:00:01\r\u001b[K     |████████████▊                   | 296 kB 30.0 MB/s eta 0:00:01\r\u001b[K     |█████████████▏                  | 307 kB 30.0 MB/s eta 0:00:01\r\u001b[K     |█████████████▋                  | 317 kB 30.0 MB/s eta 0:00:01\r\u001b[K     |██████████████                  | 327 kB 30.0 MB/s eta 0:00:01\r\u001b[K     |██████████████▌                 | 337 kB 30.0 MB/s eta 0:00:01\r\u001b[K     |███████████████                 | 348 kB 30.0 MB/s eta 0:00:01\r\u001b[K     |███████████████▍                | 358 kB 30.0 MB/s eta 0:00:01\r\u001b[K     |███████████████▉                | 368 kB 30.0 MB/s eta 0:00:01\r\u001b[K     |████████████████▎               | 378 kB 30.0 MB/s eta 0:00:01\r\u001b[K     |████████████████▊               | 389 kB 30.0 MB/s eta 0:00:01\r\u001b[K     |█████████████████▏              | 399 kB 30.0 MB/s eta 0:00:01\r\u001b[K     |█████████████████▋              | 409 kB 30.0 MB/s eta 0:00:01\r\u001b[K     |██████████████████              | 419 kB 30.0 MB/s eta 0:00:01\r\u001b[K     |██████████████████▌             | 430 kB 30.0 MB/s eta 0:00:01\r\u001b[K     |███████████████████             | 440 kB 30.0 MB/s eta 0:00:01\r\u001b[K     |███████████████████▍            | 450 kB 30.0 MB/s eta 0:00:01\r\u001b[K     |███████████████████▉            | 460 kB 30.0 MB/s eta 0:00:01\r\u001b[K     |████████████████████▎           | 471 kB 30.0 MB/s eta 0:00:01\r\u001b[K     |████████████████████▋           | 481 kB 30.0 MB/s eta 0:00:01\r\u001b[K     |█████████████████████           | 491 kB 30.0 MB/s eta 0:00:01\r\u001b[K     |█████████████████████▌          | 501 kB 30.0 MB/s eta 0:00:01\r\u001b[K     |██████████████████████          | 512 kB 30.0 MB/s eta 0:00:01\r\u001b[K     |██████████████████████▍         | 522 kB 30.0 MB/s eta 0:00:01\r\u001b[K     |██████████████████████▉         | 532 kB 30.0 MB/s eta 0:00:01\r\u001b[K     |███████████████████████▎        | 542 kB 30.0 MB/s eta 0:00:01\r\u001b[K     |███████████████████████▊        | 552 kB 30.0 MB/s eta 0:00:01\r\u001b[K     |████████████████████████▏       | 563 kB 30.0 MB/s eta 0:00:01\r\u001b[K     |████████████████████████▋       | 573 kB 30.0 MB/s eta 0:00:01\r\u001b[K     |█████████████████████████       | 583 kB 30.0 MB/s eta 0:00:01\r\u001b[K     |█████████████████████████▌      | 593 kB 30.0 MB/s eta 0:00:01\r\u001b[K     |██████████████████████████      | 604 kB 30.0 MB/s eta 0:00:01\r\u001b[K     |██████████████████████████▍     | 614 kB 30.0 MB/s eta 0:00:01\r\u001b[K     |██████████████████████████▉     | 624 kB 30.0 MB/s eta 0:00:01\r\u001b[K     |███████████████████████████▎    | 634 kB 30.0 MB/s eta 0:00:01\r\u001b[K     |███████████████████████████▊    | 645 kB 30.0 MB/s eta 0:00:01\r\u001b[K     |████████████████████████████▏   | 655 kB 30.0 MB/s eta 0:00:01\r\u001b[K     |████████████████████████████▋   | 665 kB 30.0 MB/s eta 0:00:01\r\u001b[K     |█████████████████████████████   | 675 kB 30.0 MB/s eta 0:00:01\r\u001b[K     |█████████████████████████████▌  | 686 kB 30.0 MB/s eta 0:00:01\r\u001b[K     |██████████████████████████████  | 696 kB 30.0 MB/s eta 0:00:01\r\u001b[K     |██████████████████████████████▍ | 706 kB 30.0 MB/s eta 0:00:01\r\u001b[K     |██████████████████████████████▊ | 716 kB 30.0 MB/s eta 0:00:01\r\u001b[K     |███████████████████████████████▏| 727 kB 30.0 MB/s eta 0:00:01\r\u001b[K     |███████████████████████████████▋| 737 kB 30.0 MB/s eta 0:00:01\r\u001b[K     |████████████████████████████████| 745 kB 30.0 MB/s \n",
            "\u001b[?25h  Building wheel for pyngrok (setup.py) ... \u001b[?25l\u001b[?25hdone\n"
          ]
        }
      ],
      "source": [
        "!pip install -q pyngrok"
      ]
    },
    {
      "cell_type": "code",
      "execution_count": null,
      "metadata": {
        "id": "lsFP_AhdMESd"
      },
      "outputs": [],
      "source": [
        "!pip install -q streamlit"
      ]
    },
    {
      "cell_type": "code",
      "execution_count": null,
      "metadata": {
        "id": "7BZLJg-9MYN5",
        "colab": {
          "base_uri": "https://localhost:8080/"
        },
        "outputId": "ae41d0ae-b231-43ba-ef9d-c0897811fb39"
      },
      "outputs": [
        {
          "output_type": "stream",
          "name": "stdout",
          "text": [
            "\u001b[K     |████████████████████████████████| 3.6 MB 21.5 MB/s \n",
            "\u001b[?25h"
          ]
        }
      ],
      "source": [
        "!pip install -q streamlit_ace"
      ]
    },
    {
      "cell_type": "code",
      "execution_count": null,
      "metadata": {
        "id": "ZZ8ayHvEMveI"
      },
      "outputs": [],
      "source": [
        "!streamlit run app.py &>/dev/null&"
      ]
    },
    {
      "cell_type": "code",
      "source": [
        "!pip install fuzzywuzzy[speedup]"
      ],
      "metadata": {
        "colab": {
          "base_uri": "https://localhost:8080/"
        },
        "id": "KeMaqHOs2K9l",
        "outputId": "538ab82b-037f-47cc-d12c-cd98c1f3c84e"
      },
      "execution_count": null,
      "outputs": [
        {
          "output_type": "stream",
          "name": "stdout",
          "text": [
            "Looking in indexes: https://pypi.org/simple, https://us-python.pkg.dev/colab-wheels/public/simple/\n",
            "Collecting fuzzywuzzy[speedup]\n",
            "  Downloading fuzzywuzzy-0.18.0-py2.py3-none-any.whl (18 kB)\n",
            "Collecting python-levenshtein>=0.12\n",
            "  Downloading python-Levenshtein-0.12.2.tar.gz (50 kB)\n",
            "\u001b[K     |████████████████████████████████| 50 kB 3.8 MB/s \n",
            "\u001b[?25hRequirement already satisfied: setuptools in /usr/local/lib/python3.7/dist-packages (from python-levenshtein>=0.12->fuzzywuzzy[speedup]) (57.4.0)\n",
            "Building wheels for collected packages: python-levenshtein\n",
            "  Building wheel for python-levenshtein (setup.py) ... \u001b[?25l\u001b[?25hdone\n",
            "  Created wheel for python-levenshtein: filename=python_Levenshtein-0.12.2-cp37-cp37m-linux_x86_64.whl size=149857 sha256=60453950a550ff9dc1b8808422a499504bc7b8e9e6cb80dba9a065aca19d158f\n",
            "  Stored in directory: /root/.cache/pip/wheels/05/5f/ca/7c4367734892581bb5ff896f15027a932c551080b2abd3e00d\n",
            "Successfully built python-levenshtein\n",
            "Installing collected packages: python-levenshtein, fuzzywuzzy\n",
            "Successfully installed fuzzywuzzy-0.18.0 python-levenshtein-0.12.2\n"
          ]
        }
      ]
    },
    {
      "cell_type": "code",
      "execution_count": 1,
      "metadata": {
        "colab": {
          "base_uri": "https://localhost:8080/"
        },
        "id": "HfJhVBIcNiJQ",
        "outputId": "a33caf31-67f5-4e46-e4d7-76ff40651655"
      },
      "outputs": [
        {
          "output_type": "stream",
          "name": "stdout",
          "text": [
            "Writing app.py\n"
          ]
        }
      ],
      "source": [
        "\n",
        "\n",
        "%%writefile app.py\n",
        "\n",
        "from pyngrok import ngrok\n",
        "import json\n",
        "import requests as req\n",
        "from fuzzywuzzy import process\n",
        "from fuzzywuzzy import fuzz \n",
        "import streamlit as st\n",
        "\n",
        "def main():  \n",
        "\n",
        "  html_temp = \"\"\" \n",
        "  <div style =\"background-color:red;padding:13px\"> \n",
        "  <h1 style =\"color:white;text-align:center;\">Email</h1> \n",
        "  </div> \n",
        "  \"\"\"\n",
        "  st.markdown(html_temp, unsafe_allow_html = True) \n",
        "  item = st.text_input('Item')\n",
        "  \n",
        "  def verificaNome(item):\n",
        "    res = req.get('https://guhdalla.github.io/email.json')\n",
        "    dict = res.json()\n",
        "    lista_fuzzy = process.extract(item, dict)\n",
        "    resultado = []\n",
        "    for i in lista_fuzzy:\n",
        "      if i[1] > 70:\n",
        "        resultado.append(i)\n",
        "    if len(resultado) >= 1:\n",
        "      st.success('Spam')\n",
        "    \n",
        "  if st.button('Verificar'):\n",
        "    verificaNome(item)\n",
        "\n",
        "if __name__=='__main__': \n",
        "    main()  "
      ]
    },
    {
      "cell_type": "code",
      "execution_count": null,
      "metadata": {
        "colab": {
          "base_uri": "https://localhost:8080/"
        },
        "id": "iIbb08NZA_Bd",
        "outputId": "95cfafc2-2335-472c-a644-ee31cd686ace"
      },
      "outputs": [
        {
          "output_type": "stream",
          "name": "stdout",
          "text": [
            "/bin/bash: streamlit: command not found\n",
            "\u001b[K\u001b[?25hnpx: installed 22 in 1.866s\n",
            "your url is: https://happy-worlds-smell-34-80-206-195.loca.lt\n"
          ]
        }
      ],
      "source": [
        "!streamlit run app.py & npx localtunnel --port 8501"
      ]
    }
  ],
  "metadata": {
    "colab": {
      "collapsed_sections": [],
      "name": "IdentificarEmail.ipynb",
      "provenance": [],
      "include_colab_link": true
    },
    "kernelspec": {
      "display_name": "Python 3",
      "name": "python3"
    },
    "language_info": {
      "name": "python"
    }
  },
  "nbformat": 4,
  "nbformat_minor": 0
}